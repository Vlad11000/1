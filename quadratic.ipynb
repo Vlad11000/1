{
 "cells": [
  {
   "cell_type": "code",
   "execution_count": 1,
   "id": "f67a6a43",
   "metadata": {},
   "outputs": [],
   "source": [
    "NICKNAME = \"Vlad11000\""
   ]
  },
  {
   "cell_type": "code",
   "execution_count": 2,
   "id": "5f4e2eac",
   "metadata": {},
   "outputs": [],
   "source": [
    "from math import sqrt\n",
    "from cmath import sqrt as c_sqrt\n",
    "\n",
    "def solve_quad(b, c):\n",
    "    ''' Parameters\n",
    "    ----------\n",
    "    b, c : float\n",
    "       Coefficients\n",
    "       \n",
    "    Returns\n",
    "    -------\n",
    "    x1, x2 : float or complex\n",
    "        Roots.\n",
    "    '''\n",
    "    Det = b ** 2 - 4 * c\n",
    "    if 4*c/b**2 <1e-15:\n",
    "        return (-c/b, -b+c/b)\n",
    "    if Det >= 0:\n",
    "        x2, x1 = (-b + sqrt(Det)) / 2, (-b - sqrt(Det)) / 2\n",
    "    else:\n",
    "        x1, x2 = (-b + c_sqrt(Det)) / 2, (-b - c_sqrt(Det)) / 2\n",
    "    return x1, x2"
   ]
  },
  {
   "cell_type": "code",
   "execution_count": 3,
   "id": "c43122c7",
   "metadata": {},
   "outputs": [
    {
     "data": {
      "text/plain": [
       "(-3.0, -3.0)"
      ]
     },
     "execution_count": 3,
     "metadata": {},
     "output_type": "execute_result"
    }
   ],
   "source": [
    "b=6\n",
    "c=9\n",
    "solve_quad(b, c)\n"
   ]
  },
  {
   "cell_type": "code",
   "execution_count": 4,
   "id": "984d82f3",
   "metadata": {},
   "outputs": [],
   "source": [
    "#\n",
    "# Your implementation should pass tests in this cell.\n",
    "#\n",
    "# Do not remove or alter this cell. You may run it, but do not remove or alter it.\n",
    "# Your changes to this cell will be ignored on grading.\n",
    "# There will be additional tests.\n",
    "#\n",
    "from numpy.testing import assert_allclose\n",
    "\n",
    "variants = [{'b': 4.0, 'c': 3.0},\n",
    "            {'b': 2.0, 'c': 1.0},\n",
    "            {'b': 0.5, 'c': 4.0},\n",
    "            {'b': 1e10, 'c': 3.0},\n",
    "           ]\n",
    "\n",
    "for var in variants:\n",
    "    x1, x2 = solve_quad(**var)\n",
    "    assert_allclose(x1*x2, var['c'], rtol=1e-15)\n"
   ]
  },
  {
   "cell_type": "code",
   "execution_count": null,
   "id": "1303d06f",
   "metadata": {},
   "outputs": [],
   "source": []
  }
 ],
 "metadata": {
  "kernelspec": {
   "display_name": "Python 3 (ipykernel)",
   "language": "python",
   "name": "python3"
  },
  "language_info": {
   "codemirror_mode": {
    "name": "ipython",
    "version": 3
   },
   "file_extension": ".py",
   "mimetype": "text/x-python",
   "name": "python",
   "nbconvert_exporter": "python",
   "pygments_lexer": "ipython3",
   "version": "3.9.12"
  }
 },
 "nbformat": 4,
 "nbformat_minor": 5
}
