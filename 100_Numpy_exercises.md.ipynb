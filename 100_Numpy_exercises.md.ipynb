{
 "cells": [
  {
   "cell_type": "code",
   "execution_count": null,
   "id": "6a13258f",
   "metadata": {},
   "outputs": [],
   "source": [
    "NICKNAME = \"Vlad11000\""
   ]
  },
  {
   "cell_type": "code",
   "execution_count": 2,
   "id": "9e044468",
   "metadata": {},
   "outputs": [],
   "source": [
    "1\n",
    "import numpy as np"
   ]
  },
  {
   "cell_type": "code",
   "execution_count": 2,
   "id": "4a8b34cd",
   "metadata": {},
   "outputs": [
    {
     "name": "stdout",
     "output_type": "stream",
     "text": [
      "1.21.5\n",
      "blas_mkl_info:\n",
      "    libraries = ['mkl_rt']\n",
      "    library_dirs = ['C:/Users/Boss/anaconda3\\\\Library\\\\lib']\n",
      "    define_macros = [('SCIPY_MKL_H', None), ('HAVE_CBLAS', None)]\n",
      "    include_dirs = ['C:/Users/Boss/anaconda3\\\\Library\\\\include']\n",
      "blas_opt_info:\n",
      "    libraries = ['mkl_rt']\n",
      "    library_dirs = ['C:/Users/Boss/anaconda3\\\\Library\\\\lib']\n",
      "    define_macros = [('SCIPY_MKL_H', None), ('HAVE_CBLAS', None)]\n",
      "    include_dirs = ['C:/Users/Boss/anaconda3\\\\Library\\\\include']\n",
      "lapack_mkl_info:\n",
      "    libraries = ['mkl_rt']\n",
      "    library_dirs = ['C:/Users/Boss/anaconda3\\\\Library\\\\lib']\n",
      "    define_macros = [('SCIPY_MKL_H', None), ('HAVE_CBLAS', None)]\n",
      "    include_dirs = ['C:/Users/Boss/anaconda3\\\\Library\\\\include']\n",
      "lapack_opt_info:\n",
      "    libraries = ['mkl_rt']\n",
      "    library_dirs = ['C:/Users/Boss/anaconda3\\\\Library\\\\lib']\n",
      "    define_macros = [('SCIPY_MKL_H', None), ('HAVE_CBLAS', None)]\n",
      "    include_dirs = ['C:/Users/Boss/anaconda3\\\\Library\\\\include']\n",
      "Supported SIMD extensions in this NumPy install:\n",
      "    baseline = SSE,SSE2,SSE3\n",
      "    found = SSSE3,SSE41,POPCNT,SSE42,AVX,F16C,FMA3,AVX2,AVX512F,AVX512CD,AVX512_SKX,AVX512_CLX,AVX512_CNL\n",
      "    not found = \n"
     ]
    }
   ],
   "source": [
    "2\n",
    "print(np.__version__)\n",
    "np.show_config()"
   ]
  },
  {
   "cell_type": "code",
   "execution_count": 3,
   "id": "cbbe9e29",
   "metadata": {},
   "outputs": [
    {
     "name": "stdout",
     "output_type": "stream",
     "text": [
      "[0. 0. 0. 0. 0. 0. 0. 0. 0. 0.]\n"
     ]
    }
   ],
   "source": [
    "3\n",
    "x = np.zeros(10)\n",
    "print(x)"
   ]
  },
  {
   "cell_type": "code",
   "execution_count": 5,
   "id": "82f840a5",
   "metadata": {},
   "outputs": [
    {
     "name": "stdout",
     "output_type": "stream",
     "text": [
      "840 bytes\n"
     ]
    }
   ],
   "source": [
    "4\n",
    "x = np.zeros((15,7))\n",
    "print(\"%d bytes\" % (x.size * x.itemsize))"
   ]
  },
  {
   "cell_type": "code",
   "execution_count": 6,
   "id": "95e69838",
   "metadata": {},
   "outputs": [
    {
     "name": "stdout",
     "output_type": "stream",
     "text": [
      "add(x1, x2, /, out=None, *, where=True, casting='same_kind', order='K', dtype=None, subok=True[, signature, extobj])\n",
      "\n",
      "Add arguments element-wise.\n",
      "\n",
      "Parameters\n",
      "----------\n",
      "x1, x2 : array_like\n",
      "    The arrays to be added.\n",
      "    If ``x1.shape != x2.shape``, they must be broadcastable to a common\n",
      "    shape (which becomes the shape of the output).\n",
      "out : ndarray, None, or tuple of ndarray and None, optional\n",
      "    A location into which the result is stored. If provided, it must have\n",
      "    a shape that the inputs broadcast to. If not provided or None,\n",
      "    a freshly-allocated array is returned. A tuple (possible only as a\n",
      "    keyword argument) must have length equal to the number of outputs.\n",
      "where : array_like, optional\n",
      "    This condition is broadcast over the input. At locations where the\n",
      "    condition is True, the `out` array will be set to the ufunc result.\n",
      "    Elsewhere, the `out` array will retain its original value.\n",
      "    Note that if an uninitialized `out` array is created via the default\n",
      "    ``out=None``, locations within it where the condition is False will\n",
      "    remain uninitialized.\n",
      "**kwargs\n",
      "    For other keyword-only arguments, see the\n",
      "    :ref:`ufunc docs <ufuncs.kwargs>`.\n",
      "\n",
      "Returns\n",
      "-------\n",
      "add : ndarray or scalar\n",
      "    The sum of `x1` and `x2`, element-wise.\n",
      "    This is a scalar if both `x1` and `x2` are scalars.\n",
      "\n",
      "Notes\n",
      "-----\n",
      "Equivalent to `x1` + `x2` in terms of array broadcasting.\n",
      "\n",
      "Examples\n",
      "--------\n",
      ">>> np.add(1.0, 4.0)\n",
      "5.0\n",
      ">>> x1 = np.arange(9.0).reshape((3, 3))\n",
      ">>> x2 = np.arange(3.0)\n",
      ">>> np.add(x1, x2)\n",
      "array([[  0.,   2.,   4.],\n",
      "       [  3.,   5.,   7.],\n",
      "       [  6.,   8.,  10.]])\n",
      "\n",
      "The ``+`` operator can be used as a shorthand for ``np.add`` on ndarrays.\n",
      "\n",
      ">>> x1 = np.arange(9.0).reshape((3, 3))\n",
      ">>> x2 = np.arange(3.0)\n",
      ">>> x1 + x2\n",
      "array([[ 0.,  2.,  4.],\n",
      "       [ 3.,  5.,  7.],\n",
      "       [ 6.,  8., 10.]])\n",
      "None\n"
     ]
    }
   ],
   "source": [
    "5\n",
    "print(np.info(np.add))"
   ]
  },
  {
   "cell_type": "code",
   "execution_count": 7,
   "id": "5bcc5fab",
   "metadata": {},
   "outputs": [
    {
     "name": "stdout",
     "output_type": "stream",
     "text": [
      "[0. 0. 0. 0. 1. 0. 0. 0. 0. 0.]\n"
     ]
    }
   ],
   "source": [
    "6\n",
    "x = np.zeros(10)\n",
    "x[4] = 1\n",
    "print(x)"
   ]
  },
  {
   "cell_type": "code",
   "execution_count": 12,
   "id": "29b55f9d",
   "metadata": {},
   "outputs": [
    {
     "name": "stdout",
     "output_type": "stream",
     "text": [
      "[10 11 12 13 14 15 16 17 18 19 20 21 22 23 24 25 26 27 28 29 30 31 32 33\n",
      " 34 35 36 37 38 39 40 41 42 43 44 45 46 47 48 49]\n"
     ]
    }
   ],
   "source": [
    "7\n",
    "x = np.arange(10,50)\n",
    "print(x)"
   ]
  },
  {
   "cell_type": "code",
   "execution_count": 15,
   "id": "4fe4220d",
   "metadata": {},
   "outputs": [
    {
     "data": {
      "text/plain": [
       "array([49, 48, 47, 46, 45, 44, 43, 42, 41, 40, 39, 38, 37, 36, 35, 34, 33,\n",
       "       32, 31, 30, 29, 28, 27, 26, 25, 24, 23, 22, 21, 20, 19, 18, 17, 16,\n",
       "       15, 14, 13, 12, 11, 10,  9,  8,  7,  6,  5,  4,  3,  2,  1,  0])"
      ]
     },
     "execution_count": 15,
     "metadata": {},
     "output_type": "execute_result"
    }
   ],
   "source": [
    "8\n",
    "x = x[::-1]\n",
    "x"
   ]
  },
  {
   "cell_type": "code",
   "execution_count": 16,
   "id": "8a4aaee5",
   "metadata": {},
   "outputs": [
    {
     "name": "stdout",
     "output_type": "stream",
     "text": [
      "[[0 1 2]\n",
      " [3 4 5]\n",
      " [6 7 8]]\n"
     ]
    }
   ],
   "source": [
    "9\n",
    "x = np.arange(9).reshape(3,3)\n",
    "print(x)"
   ]
  },
  {
   "cell_type": "code",
   "execution_count": 17,
   "id": "33f5e384",
   "metadata": {},
   "outputs": [
    {
     "name": "stdout",
     "output_type": "stream",
     "text": [
      "(array([0, 1, 4], dtype=int64),)\n"
     ]
    }
   ],
   "source": [
    "10\n",
    "nz = np.nonzero([1,2,0,0,4,0])\n",
    "print(nz)"
   ]
  },
  {
   "cell_type": "code",
   "execution_count": 18,
   "id": "fa958e1e",
   "metadata": {},
   "outputs": [
    {
     "name": "stdout",
     "output_type": "stream",
     "text": [
      "[[1. 0. 0.]\n",
      " [0. 1. 0.]\n",
      " [0. 0. 1.]]\n"
     ]
    }
   ],
   "source": [
    "11\n",
    "x = np.eye(3)\n",
    "print(x)"
   ]
  },
  {
   "cell_type": "code",
   "execution_count": 19,
   "id": "4f4a78ba",
   "metadata": {},
   "outputs": [
    {
     "name": "stdout",
     "output_type": "stream",
     "text": [
      "[[[0.83693509 0.42608648 0.34116024]\n",
      "  [0.77308011 0.03605632 0.71012927]\n",
      "  [0.38284694 0.32087439 0.56193124]]\n",
      "\n",
      " [[0.08259433 0.82282138 0.72752747]\n",
      "  [0.23355592 0.21333676 0.04607821]\n",
      "  [0.46533038 0.47142827 0.8486769 ]]\n",
      "\n",
      " [[0.11443614 0.45337863 0.99876624]\n",
      "  [0.39322415 0.21033595 0.81268043]\n",
      "  [0.71298909 0.12601812 0.73264207]]]\n"
     ]
    }
   ],
   "source": [
    "12\n",
    "x = np.random.random((3,3,3))\n",
    "print(x)"
   ]
  },
  {
   "cell_type": "code",
   "execution_count": 20,
   "id": "9564df30",
   "metadata": {},
   "outputs": [
    {
     "name": "stdout",
     "output_type": "stream",
     "text": [
      "0.021725689498123257 0.9996002021823613\n"
     ]
    }
   ],
   "source": [
    "13\n",
    "x = np.random.random((10,10))\n",
    "xmin, xmax = x.min(), x.max()\n",
    "print(xmin, xmax)"
   ]
  },
  {
   "cell_type": "code",
   "execution_count": 21,
   "id": "1f0729fc",
   "metadata": {},
   "outputs": [
    {
     "name": "stdout",
     "output_type": "stream",
     "text": [
      "0.5272071623902626\n"
     ]
    }
   ],
   "source": [
    "14\n",
    "x = np.random.random(30)\n",
    "a = x.mean()\n",
    "print(a)"
   ]
  },
  {
   "cell_type": "code",
   "execution_count": 23,
   "id": "b134c62e",
   "metadata": {},
   "outputs": [
    {
     "data": {
      "text/plain": [
       "array([[1., 1., 1., 1., 1.],\n",
       "       [1., 0., 0., 0., 1.],\n",
       "       [1., 0., 0., 0., 1.],\n",
       "       [1., 0., 0., 0., 1.],\n",
       "       [1., 1., 1., 1., 1.]])"
      ]
     },
     "execution_count": 23,
     "metadata": {},
     "output_type": "execute_result"
    }
   ],
   "source": [
    "15\n",
    "x = np.ones((5,5))\n",
    "x[1:-1,1:-1] = 0\n",
    "x"
   ]
  },
  {
   "cell_type": "code",
   "execution_count": 24,
   "id": "3d300075",
   "metadata": {},
   "outputs": [
    {
     "data": {
      "text/plain": [
       "array([[0., 0., 0., 0., 0., 0., 0.],\n",
       "       [0., 1., 1., 1., 1., 1., 0.],\n",
       "       [0., 1., 1., 1., 1., 1., 0.],\n",
       "       [0., 1., 1., 1., 1., 1., 0.],\n",
       "       [0., 1., 1., 1., 1., 1., 0.],\n",
       "       [0., 1., 1., 1., 1., 1., 0.],\n",
       "       [0., 0., 0., 0., 0., 0., 0.]])"
      ]
     },
     "execution_count": 24,
     "metadata": {},
     "output_type": "execute_result"
    }
   ],
   "source": [
    "16\n",
    "x = np.ones((5,5))\n",
    "x = np.pad(x, 1, constant_values=0)\n",
    "x"
   ]
  },
  {
   "cell_type": "code",
   "execution_count": 25,
   "id": "82f5b213",
   "metadata": {},
   "outputs": [
    {
     "data": {
      "text/plain": [
       "False"
      ]
     },
     "execution_count": 25,
     "metadata": {},
     "output_type": "execute_result"
    }
   ],
   "source": [
    "17\n",
    "0 * np.nan\n",
    "np.nan == np.nan\n",
    "np.inf > np.nan\n",
    "np.nan - np.nan\n",
    "np.nan in set([np.nan])\n",
    "0.3 == 3 * 0.1"
   ]
  },
  {
   "cell_type": "code",
   "execution_count": 26,
   "id": "2d3ad064",
   "metadata": {},
   "outputs": [
    {
     "name": "stdout",
     "output_type": "stream",
     "text": [
      "[[0 0 0 0 0]\n",
      " [1 0 0 0 0]\n",
      " [0 2 0 0 0]\n",
      " [0 0 3 0 0]\n",
      " [0 0 0 4 0]]\n"
     ]
    }
   ],
   "source": [
    "18\n",
    "x = np.diag(np.arange(1, 5), k=-1)\n",
    "print(x)"
   ]
  },
  {
   "cell_type": "code",
   "execution_count": 27,
   "id": "8a298e6b",
   "metadata": {},
   "outputs": [
    {
     "name": "stdout",
     "output_type": "stream",
     "text": [
      "[[0 1 0 1 0 1 0 1]\n",
      " [1 0 1 0 1 0 1 0]\n",
      " [0 1 0 1 0 1 0 1]\n",
      " [1 0 1 0 1 0 1 0]\n",
      " [0 1 0 1 0 1 0 1]\n",
      " [1 0 1 0 1 0 1 0]\n",
      " [0 1 0 1 0 1 0 1]\n",
      " [1 0 1 0 1 0 1 0]]\n"
     ]
    }
   ],
   "source": [
    "19\n",
    "x = np.zeros((8,8), dtype=int)\n",
    "x[1::2,::2] = 1\n",
    "x[::2,1::2] = 1\n",
    "print(x)"
   ]
  },
  {
   "cell_type": "code",
   "execution_count": 28,
   "id": "76f043e5",
   "metadata": {},
   "outputs": [
    {
     "name": "stdout",
     "output_type": "stream",
     "text": [
      "(1, 5, 4)\n"
     ]
    }
   ],
   "source": [
    "20\n",
    "print(np.unravel_index(100, (6,7,8)))"
   ]
  },
  {
   "cell_type": "code",
   "execution_count": 29,
   "id": "fd3a9720",
   "metadata": {},
   "outputs": [
    {
     "name": "stdout",
     "output_type": "stream",
     "text": [
      "[[0 1 0 1 0 1 0 1]\n",
      " [1 0 1 0 1 0 1 0]\n",
      " [0 1 0 1 0 1 0 1]\n",
      " [1 0 1 0 1 0 1 0]\n",
      " [0 1 0 1 0 1 0 1]\n",
      " [1 0 1 0 1 0 1 0]\n",
      " [0 1 0 1 0 1 0 1]\n",
      " [1 0 1 0 1 0 1 0]]\n"
     ]
    }
   ],
   "source": [
    "21\n",
    "x = np.tile(np.array([[0,1],[1,0]]), (4,4))\n",
    "print(x)"
   ]
  },
  {
   "cell_type": "code",
   "execution_count": 30,
   "id": "96d8cff9",
   "metadata": {},
   "outputs": [
    {
     "data": {
      "text/plain": [
       "array([[0.48525132, 0.45928625, 0.62370157, 0.18721696, 0.73693782],\n",
       "       [0.01410299, 0.21239452, 0.44307362, 0.35680133, 0.7258303 ],\n",
       "       [0.56372208, 0.19363116, 0.44562447, 0.30075537, 0.32402042],\n",
       "       [0.43975264, 0.94033921, 0.09801457, 0.42612691, 0.89588364],\n",
       "       [0.61344441, 0.28580307, 0.02916563, 0.12329837, 0.45608235]])"
      ]
     },
     "execution_count": 30,
     "metadata": {},
     "output_type": "execute_result"
    }
   ],
   "source": [
    "22\n",
    "x = np.random.random((5, 5))\n",
    "norms = np.linalg.norm(x, axis=1)\n",
    "x1 = x / norms\n",
    "x1"
   ]
  },
  {
   "cell_type": "code",
   "execution_count": 31,
   "id": "3077ab0e",
   "metadata": {},
   "outputs": [],
   "source": [
    "23\n",
    "color = np.dtype([(\"r\", np.ubyte), (\"g\", np.ubyte), (\"b\", np.ubyte), (\"a\", np.ubyte)])"
   ]
  },
  {
   "cell_type": "code",
   "execution_count": 32,
   "id": "66363061",
   "metadata": {},
   "outputs": [
    {
     "data": {
      "text/plain": [
       "array([[0.85691535, 1.21859354],\n",
       "       [0.56213609, 0.99594461],\n",
       "       [0.87748633, 1.17737322],\n",
       "       [0.74861153, 1.31844199],\n",
       "       [0.6630173 , 0.91537087]])"
      ]
     },
     "execution_count": 32,
     "metadata": {},
     "output_type": "execute_result"
    }
   ],
   "source": [
    "24\n",
    "a = np.random.random((5, 3))\n",
    "b = np.random.random((3, 2))\n",
    "c = a @ b\n",
    "c"
   ]
  },
  {
   "cell_type": "code",
   "execution_count": 33,
   "id": "a94fa7e3",
   "metadata": {},
   "outputs": [
    {
     "data": {
      "text/plain": [
       "array([ 0.03286518,  0.29880678,  0.51250045,  0.77322469, -0.94293814,\n",
       "       -0.39716179, -0.36880371, -0.09202617,  0.45277253,  0.80977398,\n",
       "        0.35386112,  0.155222  ,  0.92671732,  0.70201143,  0.83074302,\n",
       "        0.67631046,  0.29282824,  0.75327583])"
      ]
     },
     "execution_count": 33,
     "metadata": {},
     "output_type": "execute_result"
    }
   ],
   "source": [
    "25\n",
    "x = np.random.random(18)\n",
    "for i in range(4, 8):\n",
    "    x[i] *= -1\n",
    "x"
   ]
  },
  {
   "cell_type": "code",
   "execution_count": 34,
   "id": "bc47e290",
   "metadata": {},
   "outputs": [
    {
     "name": "stdout",
     "output_type": "stream",
     "text": [
      "9\n",
      "10\n"
     ]
    }
   ],
   "source": [
    "26\n",
    "print(sum(range(5),-1))\n",
    "from numpy import *\n",
    "print(sum(range(5),-1))"
   ]
  },
  {
   "cell_type": "code",
   "execution_count": 36,
   "id": "18e1ab33",
   "metadata": {},
   "outputs": [
    {
     "ename": "ValueError",
     "evalue": "The truth value of an array with more than one element is ambiguous. Use a.any() or a.all()",
     "output_type": "error",
     "traceback": [
      "\u001b[1;31m---------------------------------------------------------------------------\u001b[0m",
      "\u001b[1;31mValueError\u001b[0m                                Traceback (most recent call last)",
      "Input \u001b[1;32mIn [36]\u001b[0m, in \u001b[0;36m<cell line: 8>\u001b[1;34m()\u001b[0m\n\u001b[0;32m      6\u001b[0m \u001b[38;5;241m1\u001b[39mj\u001b[38;5;241m*\u001b[39mx\n\u001b[0;32m      7\u001b[0m x\u001b[38;5;241m/\u001b[39m\u001b[38;5;241m1\u001b[39m\u001b[38;5;241m/\u001b[39m\u001b[38;5;241m1\u001b[39m\n\u001b[1;32m----> 8\u001b[0m x\u001b[38;5;241m<\u001b[39mx\u001b[38;5;241m>\u001b[39mx\n",
      "\u001b[1;31mValueError\u001b[0m: The truth value of an array with more than one element is ambiguous. Use a.any() or a.all()"
     ]
    }
   ],
   "source": [
    "27\n",
    "x = np.arange(4)\n",
    "x**x\n",
    "2 << x >> 2\n",
    "x <- x\n",
    "1j*x\n",
    "x/1/1\n",
    "x<x>x #не это"
   ]
  },
  {
   "cell_type": "code",
   "execution_count": 39,
   "id": "9f2cc20d",
   "metadata": {},
   "outputs": [
    {
     "name": "stderr",
     "output_type": "stream",
     "text": [
      "C:\\Users\\Boss\\AppData\\Local\\Temp\\ipykernel_5952\\2538865916.py:2: RuntimeWarning: invalid value encountered in true_divide\n",
      "  np.array(0) / np.array(0)\n",
      "C:\\Users\\Boss\\AppData\\Local\\Temp\\ipykernel_5952\\2538865916.py:3: RuntimeWarning: divide by zero encountered in floor_divide\n",
      "  np.array(0) // np.array(0)\n"
     ]
    },
    {
     "data": {
      "text/plain": [
       "array([-2.14748365e+09])"
      ]
     },
     "execution_count": 39,
     "metadata": {},
     "output_type": "execute_result"
    }
   ],
   "source": [
    "28\n",
    "np.array(0) / np.array(0)\n",
    "np.array(0) // np.array(0)\n",
    "np.array([np.nan]).astype(int).astype(float)"
   ]
  },
  {
   "cell_type": "code",
   "execution_count": 40,
   "id": "0270dff5",
   "metadata": {},
   "outputs": [
    {
     "data": {
      "text/plain": [
       "array([10, 11])"
      ]
     },
     "execution_count": 40,
     "metadata": {},
     "output_type": "execute_result"
    }
   ],
   "source": [
    "30\n",
    "x = np.random.randint(0, 13, 7)\n",
    "y = np.random.randint(0, 13, 7)\n",
    "z = np.intersect1d(x, y)\n",
    "z"
   ]
  },
  {
   "cell_type": "code",
   "execution_count": 41,
   "id": "d94b233b",
   "metadata": {},
   "outputs": [
    {
     "data": {
      "text/plain": [
       "{'divide': 'warn', 'over': 'warn', 'under': 'ignore', 'invalid': 'warn'}"
      ]
     },
     "execution_count": 41,
     "metadata": {},
     "output_type": "execute_result"
    }
   ],
   "source": [
    "31\n",
    "np.seterr(all=\"ignore\")"
   ]
  },
  {
   "cell_type": "code",
   "execution_count": 42,
   "id": "76310d79",
   "metadata": {},
   "outputs": [],
   "source": [
    "err = np.seterr(all=\"ignore\")\n",
    "_ = np.seterr(**err)"
   ]
  },
  {
   "cell_type": "code",
   "execution_count": 43,
   "id": "b7deea1c",
   "metadata": {},
   "outputs": [
    {
     "data": {
      "text/plain": [
       "False"
      ]
     },
     "execution_count": 43,
     "metadata": {},
     "output_type": "execute_result"
    }
   ],
   "source": [
    "32\n",
    "np.sqrt(-1) == np.emath.sqrt(-1)"
   ]
  },
  {
   "cell_type": "code",
   "execution_count": 44,
   "id": "51997b7c",
   "metadata": {},
   "outputs": [
    {
     "name": "stdout",
     "output_type": "stream",
     "text": [
      "2022-12-21 2022-12-22 2022-12-23\n"
     ]
    }
   ],
   "source": [
    "33\n",
    "y = np.datetime64('today', 'D') - np.timedelta64(1, 'D')\n",
    "tod = np.datetime64('today', 'D')\n",
    "tom = np.datetime64('today', 'D') + np.timedelta64(1, 'D')\n",
    "print(y, tod, tom)"
   ]
  },
  {
   "cell_type": "code",
   "execution_count": 45,
   "id": "bfbbcf80",
   "metadata": {},
   "outputs": [
    {
     "name": "stdout",
     "output_type": "stream",
     "text": [
      "['2016-07-01' '2016-07-02' '2016-07-03' '2016-07-04' '2016-07-05'\n",
      " '2016-07-06' '2016-07-07' '2016-07-08' '2016-07-09' '2016-07-10'\n",
      " '2016-07-11' '2016-07-12' '2016-07-13' '2016-07-14' '2016-07-15'\n",
      " '2016-07-16' '2016-07-17' '2016-07-18' '2016-07-19' '2016-07-20'\n",
      " '2016-07-21' '2016-07-22' '2016-07-23' '2016-07-24' '2016-07-25'\n",
      " '2016-07-26' '2016-07-27' '2016-07-28' '2016-07-29' '2016-07-30'\n",
      " '2016-07-31']\n"
     ]
    }
   ],
   "source": [
    "34\n",
    "J = np.arange('2016-07', '2016-08', dtype='datetime64[D]')\n",
    "print(J)"
   ]
  },
  {
   "cell_type": "code",
   "execution_count": 46,
   "id": "4b16c70d",
   "metadata": {},
   "outputs": [
    {
     "data": {
      "text/plain": [
       "array([-10., -10., -10., -10.])"
      ]
     },
     "execution_count": 46,
     "metadata": {},
     "output_type": "execute_result"
    }
   ],
   "source": [
    "35\n",
    "A = np.ones(4)*4\n",
    "B = np.ones(4)\n",
    "np.add(A, B, out=B)\n",
    "np.divide(A, 2, out=A)\n",
    "np.negative(A, out=A)\n",
    "np.multiply(A, B, out=A)"
   ]
  },
  {
   "cell_type": "code",
   "execution_count": 47,
   "id": "57c98129",
   "metadata": {},
   "outputs": [
    {
     "name": "stdout",
     "output_type": "stream",
     "text": [
      "[ 7.  9. 11. 22. 22. 14.  1. 17. 11.  3.]\n",
      "[ 7.  9. 11. 22. 22. 14.  1. 17. 11.  3.]\n",
      "[ 7.  9. 11. 22. 22. 14.  1. 17. 11.  3.]\n",
      "[ 7.  9. 11. 22. 22. 14.  1. 17. 11.  3.]\n"
     ]
    }
   ],
   "source": [
    "36\n",
    "x = np.random.uniform(0, 24, size=10)\n",
    "print(x - x % 1)\n",
    "print(x // 1)\n",
    "print(np.floor(x))\n",
    "print(np.trunc(x))"
   ]
  },
  {
   "cell_type": "code",
   "execution_count": 48,
   "id": "73950758",
   "metadata": {},
   "outputs": [
    {
     "data": {
      "text/plain": [
       "array([[0, 1, 2, 3, 4],\n",
       "       [0, 1, 2, 3, 4],\n",
       "       [0, 1, 2, 3, 4],\n",
       "       [0, 1, 2, 3, 4],\n",
       "       [0, 1, 2, 3, 4]])"
      ]
     },
     "execution_count": 48,
     "metadata": {},
     "output_type": "execute_result"
    }
   ],
   "source": [
    "37\n",
    "x = np.arange(5)\n",
    "x0 = x\n",
    "for i in range(4):\n",
    "    x = np.vstack((x, x0)) \n",
    "x"
   ]
  },
  {
   "cell_type": "code",
   "execution_count": 49,
   "id": "60dec87d",
   "metadata": {},
   "outputs": [
    {
     "data": {
      "text/plain": [
       "array([0., 1., 2., 3., 4., 5., 6., 7., 8., 9.])"
      ]
     },
     "execution_count": 49,
     "metadata": {},
     "output_type": "execute_result"
    }
   ],
   "source": [
    "38\n",
    "def gen():\n",
    "    for x in range(10):\n",
    "        yield x\n",
    "x = np.fromiter(gen(),dtype=float,count=-1)\n",
    "x"
   ]
  },
  {
   "cell_type": "code",
   "execution_count": 50,
   "id": "a4c0f1f0",
   "metadata": {},
   "outputs": [
    {
     "data": {
      "text/plain": [
       "array([0.33860981, 0.86330872, 0.94539249, 0.21040754, 0.79679066,\n",
       "       0.69716378, 0.34220082, 0.3105764 , 0.23212085, 0.31131255])"
      ]
     },
     "execution_count": 50,
     "metadata": {},
     "output_type": "execute_result"
    }
   ],
   "source": [
    "39\n",
    "x = np.random.uniform(0.1, 1, 10)\n",
    "x"
   ]
  },
  {
   "cell_type": "code",
   "execution_count": 51,
   "id": "cb3f003d",
   "metadata": {},
   "outputs": [
    {
     "data": {
      "text/plain": [
       "array([0.03021866, 0.40514835, 0.44163703, 0.58100215, 0.62006902,\n",
       "       0.68684012, 0.74307769, 0.91996908, 0.94716681, 0.98113069])"
      ]
     },
     "execution_count": 51,
     "metadata": {},
     "output_type": "execute_result"
    }
   ],
   "source": [
    "40\n",
    "x = np.random.random(10)\n",
    "x.sort()\n",
    "x"
   ]
  },
  {
   "cell_type": "code",
   "execution_count": 52,
   "id": "b429ffba",
   "metadata": {},
   "outputs": [
    {
     "data": {
      "text/plain": [
       "45"
      ]
     },
     "execution_count": 52,
     "metadata": {},
     "output_type": "execute_result"
    }
   ],
   "source": [
    "41\n",
    "x = np.arange(10)\n",
    "np.add.reduce(x)"
   ]
  },
  {
   "cell_type": "code",
   "execution_count": 53,
   "id": "23acba4c",
   "metadata": {},
   "outputs": [
    {
     "data": {
      "text/plain": [
       "False"
      ]
     },
     "execution_count": 53,
     "metadata": {},
     "output_type": "execute_result"
    }
   ],
   "source": [
    "42\n",
    "a = np.random.random(10)\n",
    "b = np.random.random(10)\n",
    "np.allclose(a, b)"
   ]
  },
  {
   "cell_type": "code",
   "execution_count": 54,
   "id": "8862bc95",
   "metadata": {},
   "outputs": [],
   "source": [
    "43\n",
    "a = np.zeros(10)\n",
    "a.flags.writeable = False"
   ]
  },
  {
   "cell_type": "code",
   "execution_count": 55,
   "id": "2a97e2b9",
   "metadata": {},
   "outputs": [
    {
     "data": {
      "text/plain": [
       "array([[1.20463247, 0.6203699 ],\n",
       "       [0.81212435, 0.14608016],\n",
       "       [0.94616661, 1.12993166],\n",
       "       [0.63399623, 0.37419028],\n",
       "       [0.9763065 , 0.37099677],\n",
       "       [0.10450871, 0.25052191],\n",
       "       [0.39061711, 1.1565126 ],\n",
       "       [0.84194953, 0.94348109],\n",
       "       [0.98753427, 0.99410702],\n",
       "       [0.89270187, 1.39994519]])"
      ]
     },
     "execution_count": 55,
     "metadata": {},
     "output_type": "execute_result"
    }
   ],
   "source": [
    "44\n",
    "def cartesian_to_polar(c):\n",
    "    p = np.array([[np.sqrt(x**2 + y**2), np.arctan2(y, x)] for x, y in c])\n",
    "    return p\n",
    "x = np.random.random((10,2))\n",
    "cartesian_to_polar(x)"
   ]
  },
  {
   "cell_type": "code",
   "execution_count": 56,
   "id": "3f84f178",
   "metadata": {},
   "outputs": [
    {
     "name": "stdout",
     "output_type": "stream",
     "text": [
      "[0.89417694 0.15273466 0.41020066 0.84132513 0.68850355 0.76744482\n",
      " 0.25479387 0.89394192 0.89275782 0.7274683 ]\n",
      "[0.         0.15273466 0.41020066 0.84132513 0.68850355 0.76744482\n",
      " 0.25479387 0.89394192 0.89275782 0.7274683 ]\n"
     ]
    }
   ],
   "source": [
    "45\n",
    "x = np.random.random(10)\n",
    "print(x)\n",
    "x[x.argmax()] = 0\n",
    "print(x)"
   ]
  },
  {
   "cell_type": "code",
   "execution_count": 58,
   "id": "a86805be",
   "metadata": {},
   "outputs": [
    {
     "name": "stdout",
     "output_type": "stream",
     "text": [
      "[[(0.  , 0.  ) (0.25, 0.  ) (0.5 , 0.  ) (0.75, 0.  ) (1.  , 0.  )]\n",
      " [(0.  , 0.25) (0.25, 0.25) (0.5 , 0.25) (0.75, 0.25) (1.  , 0.25)]\n",
      " [(0.  , 0.5 ) (0.25, 0.5 ) (0.5 , 0.5 ) (0.75, 0.5 ) (1.  , 0.5 )]\n",
      " [(0.  , 0.75) (0.25, 0.75) (0.5 , 0.75) (0.75, 0.75) (1.  , 0.75)]\n",
      " [(0.  , 1.  ) (0.25, 1.  ) (0.5 , 1.  ) (0.75, 1.  ) (1.  , 1.  )]]\n"
     ]
    }
   ],
   "source": [
    "46\n",
    "a= np.zeros((5, 5), [('x', float), ('y', float)])\n",
    "a['x'], a['y'] = np.meshgrid(np.linspace(0, 1, 5), np.linspace(0, 1, 5))\n",
    "print(a)"
   ]
  },
  {
   "cell_type": "code",
   "execution_count": 59,
   "id": "d80688eb",
   "metadata": {},
   "outputs": [
    {
     "data": {
      "text/plain": [
       "array([[-0.97516776,  0.214167  ,  0.38827309,  1.76789708],\n",
       "       [-0.28575129,  0.45554531,  9.85952935, -0.52398863],\n",
       "       [ 1.42591109,  0.15634713,  0.23243503,  0.43622131],\n",
       "       [-0.40410601,  0.31054745,  0.88780516, -1.13187497]])"
      ]
     },
     "execution_count": 59,
     "metadata": {},
     "output_type": "execute_result"
    }
   ],
   "source": [
    "47\n",
    "x = np.random.uniform(0.1, 10, 4)\n",
    "y = np.random.uniform(0.1, 10, 4)\n",
    "c = 1.0 / (x.reshape((-1, 1)) - y)\n",
    "c"
   ]
  },
  {
   "cell_type": "code",
   "execution_count": 60,
   "id": "13a2b93c",
   "metadata": {},
   "outputs": [
    {
     "name": "stdout",
     "output_type": "stream",
     "text": [
      "-128\n",
      "127\n",
      "-2147483648\n",
      "2147483647\n",
      "-9223372036854775808\n",
      "9223372036854775807\n",
      "-3.4028235e+38\n",
      "3.4028235e+38\n",
      "-1.7976931348623157e+308\n",
      "1.7976931348623157e+308\n"
     ]
    }
   ],
   "source": [
    "48\n",
    "for dtype in [np.int8, np.int32, np.int64]:\n",
    "    print(np.iinfo(dtype).min)\n",
    "    print(np.iinfo(dtype).max)\n",
    "for dtype in [np.float32, np.float64]:\n",
    "    print(np.finfo(dtype).min)\n",
    "    print(np.finfo(dtype).max)"
   ]
  },
  {
   "cell_type": "code",
   "execution_count": 61,
   "id": "f28d5393",
   "metadata": {},
   "outputs": [
    {
     "name": "stdout",
     "output_type": "stream",
     "text": [
      "[[0. 0. 0. 0.]\n",
      " [0. 0. 0. 0.]\n",
      " [0. 0. 0. 0.]\n",
      " [0. 0. 0. 0.]]\n"
     ]
    }
   ],
   "source": [
    "49\n",
    "np.set_printoptions(threshold = float(\"inf\"))\n",
    "x = np.zeros((4, 4))\n",
    "print(x)"
   ]
  },
  {
   "cell_type": "code",
   "execution_count": 62,
   "id": "96855611",
   "metadata": {},
   "outputs": [
    {
     "name": "stdout",
     "output_type": "stream",
     "text": [
      "89\n"
     ]
    }
   ],
   "source": [
    "50\n",
    "x = np.arange(241)\n",
    "v = np.random.uniform(0,100)\n",
    "i = (np.abs(x-v)).argmin()\n",
    "print(x[i])"
   ]
  },
  {
   "cell_type": "code",
   "execution_count": 63,
   "id": "c81cae65",
   "metadata": {},
   "outputs": [
    {
     "name": "stdout",
     "output_type": "stream",
     "text": [
      "[((0., 0.), (0., 0., 0.)) ((0., 0.), (0., 0., 0.))\n",
      " ((0., 0.), (0., 0., 0.)) ((0., 0.), (0., 0., 0.))\n",
      " ((0., 0.), (0., 0., 0.)) ((0., 0.), (0., 0., 0.))\n",
      " ((0., 0.), (0., 0., 0.)) ((0., 0.), (0., 0., 0.))\n",
      " ((0., 0.), (0., 0., 0.)) ((0., 0.), (0., 0., 0.))]\n"
     ]
    },
    {
     "name": "stderr",
     "output_type": "stream",
     "text": [
      "C:\\Users\\Boss\\AppData\\Local\\Temp\\ipykernel_5952\\716841596.py:2: FutureWarning: Passing (type, 1) or '1type' as a synonym of type is deprecated; in a future version of numpy, it will be understood as (type, (1,)) / '(1,)type'.\n",
      "  a = np.zeros(10, [ ('position', [ ('x', float, 1), ('y', float, 1)]),\n"
     ]
    }
   ],
   "source": [
    "51\n",
    "a = np.zeros(10, [ ('position', [ ('x', float, 1), ('y', float, 1)]),\n",
    "                   ('color',    [ ('r', float, 1), ('g', float, 1), ('b', float, 1)])])\n",
    "print(a)"
   ]
  },
  {
   "cell_type": "code",
   "execution_count": 64,
   "id": "983932e2",
   "metadata": {},
   "outputs": [
    {
     "name": "stdout",
     "output_type": "stream",
     "text": [
      "[[0.         0.501552   0.15753817 0.52138898 0.60924167 0.45884355\n",
      "  0.62261419 0.8310793  0.76449771 0.50984175]\n",
      " [0.501552   0.         0.34787818 0.09403977 0.5524863  0.66624863\n",
      "  0.26071956 0.50291777 0.30792906 0.50631199]\n",
      " [0.15753817 0.34787818 0.         0.37836935 0.57271421 0.50615719\n",
      "  0.50060618 0.72775904 0.60752166 0.42481888]\n",
      " [0.52138898 0.09403977 0.37836935 0.         0.47023674 0.61495603\n",
      "  0.16815049 0.4126418  0.36724814 0.59441505]\n",
      " [0.60924167 0.5524863  0.57271421 0.47023674 0.         0.30475047\n",
      "  0.36914651 0.37447592 0.8319594  0.96444476]\n",
      " [0.45884355 0.66624863 0.50615719 0.61495603 0.30475047 0.\n",
      "  0.58880955 0.6690991  0.97368778 0.93081662]\n",
      " [0.62261419 0.26071956 0.50060618 0.16815049 0.36914651 0.58880955\n",
      "  0.         0.24572091 0.47887952 0.76180894]\n",
      " [0.8310793  0.50291777 0.72775904 0.4126418  0.37447592 0.6690991\n",
      "  0.24572091 0.         0.66559702 1.00703218]\n",
      " [0.76449771 0.30792906 0.60752166 0.36724814 0.8319594  0.97368778\n",
      "  0.47887952 0.66559702 0.         0.54327155]\n",
      " [0.50984175 0.50631199 0.42481888 0.59441505 0.96444476 0.93081662\n",
      "  0.76180894 1.00703218 0.54327155 0.        ]]\n"
     ]
    }
   ],
   "source": [
    "52\n",
    "import scipy.spatial as sp\n",
    "x = np.random.random((10, 2))\n",
    "D = sp.distance.cdist(x, x)\n",
    "print(D)"
   ]
  },
  {
   "cell_type": "code",
   "execution_count": 65,
   "id": "854af40e",
   "metadata": {},
   "outputs": [
    {
     "name": "stdout",
     "output_type": "stream",
     "text": [
      "[0 1 2 3 4 5 6 7 8 9]\n"
     ]
    }
   ],
   "source": [
    "53\n",
    "x = np.arange(10, dtype=np.float32)\n",
    "x = x.astype(np.int32, copy=False)\n",
    "print(x)"
   ]
  },
  {
   "cell_type": "code",
   "execution_count": 67,
   "id": "91ee2723",
   "metadata": {},
   "outputs": [
    {
     "name": "stdout",
     "output_type": "stream",
     "text": [
      "(0, 0) 0\n",
      "(0, 1) 1\n",
      "(0, 2) 2\n",
      "(1, 0) 3\n",
      "(1, 1) 4\n",
      "(1, 2) 5\n",
      "(2, 0) 6\n",
      "(2, 1) 7\n",
      "(2, 2) 8\n",
      "(0, 0) 0\n",
      "(0, 1) 1\n",
      "(0, 2) 2\n",
      "(1, 0) 3\n",
      "(1, 1) 4\n",
      "(1, 2) 5\n",
      "(2, 0) 6\n",
      "(2, 1) 7\n",
      "(2, 2) 8\n"
     ]
    }
   ],
   "source": [
    "55\n",
    "x = np.arange(9).reshape(3,3)\n",
    "for i, value in np.ndenumerate(x):\n",
    "    print(i, value)\n",
    "for i in np.ndindex(x.shape):\n",
    "    print(i, x[i])"
   ]
  },
  {
   "cell_type": "code",
   "execution_count": 68,
   "id": "a52d959a",
   "metadata": {},
   "outputs": [
    {
     "name": "stdout",
     "output_type": "stream",
     "text": [
      "[[0.36787944 0.44822088 0.51979489 0.57375342 0.60279818 0.60279818\n",
      "  0.57375342 0.51979489 0.44822088 0.36787944]\n",
      " [0.44822088 0.54610814 0.63331324 0.69905581 0.73444367 0.73444367\n",
      "  0.69905581 0.63331324 0.54610814 0.44822088]\n",
      " [0.51979489 0.63331324 0.73444367 0.81068432 0.85172308 0.85172308\n",
      "  0.81068432 0.73444367 0.63331324 0.51979489]\n",
      " [0.57375342 0.69905581 0.81068432 0.89483932 0.9401382  0.9401382\n",
      "  0.89483932 0.81068432 0.69905581 0.57375342]\n",
      " [0.60279818 0.73444367 0.85172308 0.9401382  0.98773022 0.98773022\n",
      "  0.9401382  0.85172308 0.73444367 0.60279818]\n",
      " [0.60279818 0.73444367 0.85172308 0.9401382  0.98773022 0.98773022\n",
      "  0.9401382  0.85172308 0.73444367 0.60279818]\n",
      " [0.57375342 0.69905581 0.81068432 0.89483932 0.9401382  0.9401382\n",
      "  0.89483932 0.81068432 0.69905581 0.57375342]\n",
      " [0.51979489 0.63331324 0.73444367 0.81068432 0.85172308 0.85172308\n",
      "  0.81068432 0.73444367 0.63331324 0.51979489]\n",
      " [0.44822088 0.54610814 0.63331324 0.69905581 0.73444367 0.73444367\n",
      "  0.69905581 0.63331324 0.54610814 0.44822088]\n",
      " [0.36787944 0.44822088 0.51979489 0.57375342 0.60279818 0.60279818\n",
      "  0.57375342 0.51979489 0.44822088 0.36787944]]\n"
     ]
    }
   ],
   "source": [
    "56\n",
    "X, Y = np.meshgrid(np.linspace(-1, 1, 10), np.linspace(-1, 1, 10))\n",
    "D = np.sqrt(X**2 + Y**2)\n",
    "sigma, mu = 1.0, 0.0\n",
    "G = np.exp(-( (D - mu)**2 / (2 * sigma**2) ))\n",
    "print (G)"
   ]
  },
  {
   "cell_type": "code",
   "execution_count": 69,
   "id": "ac3ed58e",
   "metadata": {},
   "outputs": [
    {
     "name": "stdout",
     "output_type": "stream",
     "text": [
      "[[0. 0. 0. 0. 0.]\n",
      " [0. 0. 0. 0. 0.]\n",
      " [0. 0. 0. 1. 0.]\n",
      " [0. 0. 0. 0. 1.]\n",
      " [1. 0. 0. 0. 0.]]\n"
     ]
    }
   ],
   "source": [
    "57\n",
    "p = 3\n",
    "A = np.zeros((5,5))\n",
    "np.put(A, np.random.choice(range(5*5), p, replace=False),1)\n",
    "print(A)"
   ]
  },
  {
   "cell_type": "code",
   "execution_count": 70,
   "id": "a2bdefa2",
   "metadata": {},
   "outputs": [
    {
     "name": "stdout",
     "output_type": "stream",
     "text": [
      "[[-0.24045371  0.13067431  0.42294177  0.37620735 -0.02336168 -0.42167691\n",
      "   0.27218172 -0.37364956 -0.05584782 -0.08701548]\n",
      " [ 0.12732535 -0.11616597  0.34299381 -0.23724294 -0.36032184  0.41452185\n",
      "   0.41259562  0.25262277 -0.37318668 -0.46314197]\n",
      " [ 0.03525367  0.19941048 -0.16211738  0.27782741  0.34991095 -0.23842605\n",
      "  -0.13614113  0.38508473 -0.4107436  -0.30005908]\n",
      " [ 0.15534663  0.15891403  0.1823042  -0.48439061  0.32952065 -0.26055124\n",
      "   0.19516936 -0.44433686  0.03856535  0.12945848]\n",
      " [-0.16409613  0.01255065  0.09457106  0.32353659  0.06426762 -0.34357512\n",
      "   0.21632513  0.11793725 -0.07292395 -0.24859312]]\n"
     ]
    }
   ],
   "source": [
    "58\n",
    "x = np.random.rand(5, 10)\n",
    "y = x - x.mean(axis=1, keepdims=True)\n",
    "y = x - x.mean(axis=1).reshape(-1, 1)\n",
    "print(y)"
   ]
  },
  {
   "cell_type": "code",
   "execution_count": 71,
   "id": "3563f6bc",
   "metadata": {},
   "outputs": [
    {
     "name": "stdout",
     "output_type": "stream",
     "text": [
      "[[3 1 5 3]\n",
      " [1 2 9 9]\n",
      " [5 9 0 1]]\n",
      "[[5 9 0 1]\n",
      " [3 1 5 3]\n",
      " [1 2 9 9]]\n"
     ]
    }
   ],
   "source": [
    "59\n",
    "n = 2\n",
    "a = np.random.randint(0, 10, (3, 4))\n",
    "print(a)\n",
    "print(a [a[:, n].argsort() ])"
   ]
  },
  {
   "cell_type": "code",
   "execution_count": 72,
   "id": "a7541a12",
   "metadata": {},
   "outputs": [
    {
     "name": "stdout",
     "output_type": "stream",
     "text": [
      "True\n"
     ]
    }
   ],
   "source": [
    "60\n",
    "a = np.random.randint(0, 2, (3, 4))\n",
    "print((~a.any(axis = 0)).any())"
   ]
  },
  {
   "cell_type": "code",
   "execution_count": 73,
   "id": "42b8d920",
   "metadata": {},
   "outputs": [
    {
     "name": "stdout",
     "output_type": "stream",
     "text": [
      "6.334853174726213\n"
     ]
    }
   ],
   "source": [
    "61\n",
    "x = np.random.uniform(0, 10, 10)\n",
    "a = 6\n",
    "m = x.flat[np.abs(x - a).argmin()]\n",
    "print(m)"
   ]
  },
  {
   "cell_type": "code",
   "execution_count": 74,
   "id": "5f4f2701",
   "metadata": {},
   "outputs": [
    {
     "name": "stdout",
     "output_type": "stream",
     "text": [
      "[[0 1 2]\n",
      " [1 2 3]\n",
      " [2 3 4]]\n"
     ]
    }
   ],
   "source": [
    "62\n",
    "A = np.arange(3).reshape(3, 1)\n",
    "B = np.arange(3).reshape(1, 3)\n",
    "it = np.nditer([A, B, None])\n",
    "for x, y, z in it:\n",
    "    z[...] = x + y\n",
    "print (it.operands[2])"
   ]
  },
  {
   "cell_type": "code",
   "execution_count": 76,
   "id": "33ca4cdc",
   "metadata": {},
   "outputs": [
    {
     "name": "stdout",
     "output_type": "stream",
     "text": [
      "[3. 3. 2. 3. 3. 4. 3. 5. 3. 1.]\n"
     ]
    }
   ],
   "source": [
    "64\n",
    "x = np.ones(10)\n",
    "y = np.random.randint(0, 10, 20)\n",
    "np.add.at(x, y, 1)\n",
    "print(x)"
   ]
  },
  {
   "cell_type": "code",
   "execution_count": 3,
   "id": "370f8ca2",
   "metadata": {},
   "outputs": [
    {
     "name": "stdout",
     "output_type": "stream",
     "text": [
      "[4. 6. 4. 2. 4. 2. 2. 2. 2. 2.]\n"
     ]
    }
   ],
   "source": [
    "64\n",
    "x = np.ones(10)\n",
    "y = np.random.randint(0, 10, 20)\n",
    "np.add.at(x, y, 1)\n",
    "print(x)"
   ]
  },
  {
   "cell_type": "code",
   "execution_count": 4,
   "id": "cd20a0be",
   "metadata": {},
   "outputs": [
    {
     "name": "stdout",
     "output_type": "stream",
     "text": [
      "[0. 0. 0. 0. 0. 7. 0. 4. 1. 3.]\n"
     ]
    }
   ],
   "source": [
    "65\n",
    "X = np.arange(6)\n",
    "I = np.random.randint(0, 10, 6)\n",
    "F = np.bincount(I, X)\n",
    "print(F)"
   ]
  },
  {
   "cell_type": "code",
   "execution_count": 5,
   "id": "49e69763",
   "metadata": {},
   "outputs": [
    {
     "name": "stdout",
     "output_type": "stream",
     "text": [
      "[0 1]\n"
     ]
    }
   ],
   "source": [
    "66\n",
    "w, h = 16, 16\n",
    "I = np.random.randint(0, 2, (h, w, 3)).astype(np.ubyte)\n",
    "F = I[..., 0] * 256 * 256 + I[..., 1] * 256 + I[..., 2]\n",
    "n = len(np.unique(F))\n",
    "print(np.unique(I))"
   ]
  },
  {
   "cell_type": "code",
   "execution_count": 6,
   "id": "9b82cde0",
   "metadata": {},
   "outputs": [
    {
     "name": "stdout",
     "output_type": "stream",
     "text": [
      "[[53 40 51 59]\n",
      " [44 51 55 55]\n",
      " [48 54 47 58]]\n",
      "[[53 40 51 59]\n",
      " [44 51 55 55]\n",
      " [48 54 47 58]]\n"
     ]
    }
   ],
   "source": [
    "67\n",
    "A = np.random.randint(0, 10, (3, 4, 3, 4))\n",
    "sum = A.sum(axis=(-2, -1))\n",
    "print(sum)\n",
    "sum = A.reshape(A.shape[:-2] + (-1,)).sum(axis=-1)\n",
    "print(sum)"
   ]
  },
  {
   "cell_type": "code",
   "execution_count": 7,
   "id": "b10fc0ca",
   "metadata": {},
   "outputs": [
    {
     "name": "stdout",
     "output_type": "stream",
     "text": [
      "0    0.513107\n",
      "1    0.527412\n",
      "2    0.389092\n",
      "3    0.293930\n",
      "4    0.766198\n",
      "5    0.568771\n",
      "6    0.405479\n",
      "7    0.537744\n",
      "8    0.308401\n",
      "9    0.308079\n",
      "dtype: float64\n"
     ]
    }
   ],
   "source": [
    "68\n",
    "import pandas as pd\n",
    "D = np.random.uniform(0, 1, 33)\n",
    "S = np.random.randint(0, 10, 33)\n",
    "print(pd.Series(D).groupby(S).mean())"
   ]
  },
  {
   "cell_type": "code",
   "execution_count": 8,
   "id": "320624ae",
   "metadata": {},
   "outputs": [
    {
     "name": "stdout",
     "output_type": "stream",
     "text": [
      "[0.96673969 0.76531091 1.62886059 1.8083264  0.65207941]\n"
     ]
    }
   ],
   "source": [
    "69\n",
    "A = np.random.uniform(0, 1, (5, 5))\n",
    "B = np.random.uniform(0, 1, (5, 5))\n",
    "print(np.diag(np.dot(A, B)))"
   ]
  },
  {
   "cell_type": "code",
   "execution_count": 9,
   "id": "1a597aad",
   "metadata": {},
   "outputs": [
    {
     "name": "stdout",
     "output_type": "stream",
     "text": [
      "[1. 0. 0. 0. 2. 0. 0. 0. 3. 0. 0. 0. 4. 0. 0. 0. 5.]\n"
     ]
    }
   ],
   "source": [
    "70\n",
    "a = np.linspace(1, 5, 5)\n",
    "b = np.zeros(5 + 4 * 3)\n",
    "b[::4] = a\n",
    "print(b)"
   ]
  },
  {
   "cell_type": "code",
   "execution_count": 10,
   "id": "b87c3ee3",
   "metadata": {},
   "outputs": [
    {
     "name": "stdout",
     "output_type": "stream",
     "text": [
      "[[[21. 21. 21.]\n",
      "  [21. 21. 21.]\n",
      "  [21. 21. 21.]\n",
      "  [21. 21. 21.]\n",
      "  [21. 21. 21.]]\n",
      "\n",
      " [[21. 21. 21.]\n",
      "  [21. 21. 21.]\n",
      "  [21. 21. 21.]\n",
      "  [21. 21. 21.]\n",
      "  [21. 21. 21.]]\n",
      "\n",
      " [[21. 21. 21.]\n",
      "  [21. 21. 21.]\n",
      "  [21. 21. 21.]\n",
      "  [21. 21. 21.]\n",
      "  [21. 21. 21.]]\n",
      "\n",
      " [[21. 21. 21.]\n",
      "  [21. 21. 21.]\n",
      "  [21. 21. 21.]\n",
      "  [21. 21. 21.]\n",
      "  [21. 21. 21.]]\n",
      "\n",
      " [[21. 21. 21.]\n",
      "  [21. 21. 21.]\n",
      "  [21. 21. 21.]\n",
      "  [21. 21. 21.]\n",
      "  [21. 21. 21.]]]\n"
     ]
    }
   ],
   "source": [
    "71\n",
    "A = 7 * np.ones((5, 5, 3))\n",
    "B = 3 * np.ones((5, 5))\n",
    "print(A * B[:,:,None])"
   ]
  },
  {
   "cell_type": "code",
   "execution_count": 11,
   "id": "fd408e4a",
   "metadata": {},
   "outputs": [
    {
     "data": {
      "text/plain": [
       "array([[ 5,  6,  7,  8,  9],\n",
       "       [ 0,  1,  2,  3,  4],\n",
       "       [10, 11, 12, 13, 14],\n",
       "       [15, 16, 17, 18, 19],\n",
       "       [20, 21, 22, 23, 24]])"
      ]
     },
     "execution_count": 11,
     "metadata": {},
     "output_type": "execute_result"
    }
   ],
   "source": [
    "72\n",
    "A = np.arange(25).reshape(5,5)\n",
    "A[[0, 1]] = A[[1, 0]]\n",
    "A"
   ]
  },
  {
   "cell_type": "code",
   "execution_count": 12,
   "id": "d69e72c2",
   "metadata": {},
   "outputs": [
    {
     "name": "stdout",
     "output_type": "stream",
     "text": [
      "[( 0, 48) ( 0, 89) ( 2, 55) ( 2, 64) ( 5, 56) ( 5, 57) (16, 35) (16, 91)\n",
      " (25, 70) (25, 74) (34, 41) (34, 79) (35, 91) (41, 79) (48, 51) (48, 73)\n",
      " (48, 89) (51, 73) (55, 64) (55, 66) (55, 73) (56, 57) (66, 73) (69, 73)\n",
      " (69, 89) (70, 74) (71, 75) (71, 83) (73, 89) (75, 83)]\n"
     ]
    }
   ],
   "source": [
    "73\n",
    "p = np.random.randint(0, 100, (10, 3))\n",
    "F = np.roll(p.repeat(2, axis=1), -1, axis=1)\n",
    "F = F.reshape(len(F) * 3, 2)\n",
    "F = np.sort(F, axis=1)\n",
    "G = F.view( dtype=[('0', F.dtype), ('1', F.dtype)] )\n",
    "G = np.unique(G)\n",
    "print(G)"
   ]
  },
  {
   "cell_type": "code",
   "execution_count": 13,
   "id": "a8a669be",
   "metadata": {},
   "outputs": [
    {
     "name": "stdout",
     "output_type": "stream",
     "text": [
      "[0 1 1 1 2 3 7]\n"
     ]
    }
   ],
   "source": [
    "74\n",
    "x = np.sort([0, 1, 1, 3, 2, 1, 7])\n",
    "k = np.bincount(x)\n",
    "A = np.repeat(np.arange(len(k)), k)\n",
    "print(A)"
   ]
  },
  {
   "cell_type": "code",
   "execution_count": 14,
   "id": "239f7b09",
   "metadata": {},
   "outputs": [
    {
     "name": "stdout",
     "output_type": "stream",
     "text": [
      "[ 2.5  3.5  4.5  5.5  6.5  7.5  8.5  9.5 10.5]\n"
     ]
    }
   ],
   "source": [
    "75\n",
    "from numpy.lib.stride_tricks import sliding_window_view\n",
    "x = np.arange(14)\n",
    "print(sliding_window_view(x, window_shape=6).mean(axis=-1))"
   ]
  },
  {
   "cell_type": "code",
   "execution_count": 15,
   "id": "094a029e",
   "metadata": {},
   "outputs": [
    {
     "name": "stdout",
     "output_type": "stream",
     "text": [
      "[[0 1 2]\n",
      " [1 2 3]\n",
      " [2 3 4]\n",
      " [3 4 5]\n",
      " [4 5 6]\n",
      " [5 6 7]\n",
      " [6 7 8]]\n"
     ]
    }
   ],
   "source": [
    "76\n",
    "Z = np.arange(9)\n",
    "print(sliding_window_view(Z, window_shape=3))"
   ]
  },
  {
   "cell_type": "code",
   "execution_count": 16,
   "id": "3e9590da",
   "metadata": {},
   "outputs": [
    {
     "name": "stdout",
     "output_type": "stream",
     "text": [
      "[2 2 0 1 1 0 1 2 0 1 0 0 2 1 2 1 1 2 2 2 1 0 0 0 0 1 1 1 2 0 1 2 2 1]\n",
      "[0 0 1 0 0 1 0 0 1 0 1 1 0 0 0 0 0 0 0 0 0 1 1 1 1 0 0 0 0 1 0 0 0 0]\n",
      "[-0.52207434  0.40054455  0.77174765 -0.79304046  0.42009828  0.58078331\n",
      "  0.63229644  0.43903848 -0.56928089  0.09276177 -0.23952682 -0.50342632\n",
      " -0.62807215 -0.55968684 -0.57296633 -0.56928625 -0.28485412 -0.65347818\n",
      " -0.32400095  0.70652139  0.97830362 -0.55841739  0.48994179 -0.18185496\n",
      " -0.22345228  0.53885781 -0.51701679  0.08017635 -0.2603506  -0.54505931\n",
      " -0.39424698 -0.2013105   0.84571267]\n",
      "[ 0.52207434 -0.40054455 -0.77174765  0.79304046 -0.42009828 -0.58078331\n",
      " -0.63229644 -0.43903848  0.56928089 -0.09276177  0.23952682  0.50342632\n",
      "  0.62807215  0.55968684  0.57296633  0.56928625  0.28485412  0.65347818\n",
      "  0.32400095 -0.70652139 -0.97830362  0.55841739 -0.48994179  0.18185496\n",
      "  0.22345228 -0.53885781  0.51701679 -0.08017635  0.2603506   0.54505931\n",
      "  0.39424698  0.2013105  -0.84571267]\n"
     ]
    }
   ],
   "source": [
    "77\n",
    "x = np.random.randint(0, 3, 34)\n",
    "print (x)\n",
    "print(np.logical_not(x, out=x))\n",
    "x = np.random.uniform(-1.0, 1.0, 33)\n",
    "print (x)\n",
    "print(np.negative(x, out=x))"
   ]
  },
  {
   "cell_type": "code",
   "execution_count": 17,
   "id": "716e2cac",
   "metadata": {},
   "outputs": [
    {
     "name": "stdout",
     "output_type": "stream",
     "text": [
      "[[ 1  2  3  4]\n",
      " [ 2  3  4  5]\n",
      " [ 3  4  5  6]\n",
      " [ 4  5  6  7]\n",
      " [ 5  6  7  8]\n",
      " [ 6  7  8  9]\n",
      " [ 7  8  9 10]\n",
      " [ 8  9 10 11]\n",
      " [ 9 10 11 12]\n",
      " [10 11 12 13]\n",
      " [11 12 13 14]]\n"
     ]
    }
   ],
   "source": [
    "81\n",
    "x = np.arange(1, 15, dtype=np.uint32)\n",
    "print(sliding_window_view(x, window_shape=4))\n"
   ]
  },
  {
   "cell_type": "code",
   "execution_count": 18,
   "id": "81eb6464",
   "metadata": {},
   "outputs": [
    {
     "name": "stdout",
     "output_type": "stream",
     "text": [
      "2\n"
     ]
    }
   ],
   "source": [
    "83\n",
    "x = np.arange(25).reshape(5,5)\n",
    "rank = np.linalg.matrix_rank(x)\n",
    "print(rank)"
   ]
  },
  {
   "cell_type": "code",
   "execution_count": 19,
   "id": "f7dd51da",
   "metadata": {},
   "outputs": [
    {
     "name": "stdout",
     "output_type": "stream",
     "text": [
      "[[[[ 0  1  2]\n",
      "   [10 11 12]\n",
      "   [20 21 22]]\n",
      "\n",
      "  [[ 1  2  3]\n",
      "   [11 12 13]\n",
      "   [21 22 23]]\n",
      "\n",
      "  [[ 2  3  4]\n",
      "   [12 13 14]\n",
      "   [22 23 24]]\n",
      "\n",
      "  [[ 3  4  5]\n",
      "   [13 14 15]\n",
      "   [23 24 25]]\n",
      "\n",
      "  [[ 4  5  6]\n",
      "   [14 15 16]\n",
      "   [24 25 26]]\n",
      "\n",
      "  [[ 5  6  7]\n",
      "   [15 16 17]\n",
      "   [25 26 27]]\n",
      "\n",
      "  [[ 6  7  8]\n",
      "   [16 17 18]\n",
      "   [26 27 28]]\n",
      "\n",
      "  [[ 7  8  9]\n",
      "   [17 18 19]\n",
      "   [27 28 29]]]\n",
      "\n",
      "\n",
      " [[[10 11 12]\n",
      "   [20 21 22]\n",
      "   [30 31 32]]\n",
      "\n",
      "  [[11 12 13]\n",
      "   [21 22 23]\n",
      "   [31 32 33]]\n",
      "\n",
      "  [[12 13 14]\n",
      "   [22 23 24]\n",
      "   [32 33 34]]\n",
      "\n",
      "  [[13 14 15]\n",
      "   [23 24 25]\n",
      "   [33 34 35]]\n",
      "\n",
      "  [[14 15 16]\n",
      "   [24 25 26]\n",
      "   [34 35 36]]\n",
      "\n",
      "  [[15 16 17]\n",
      "   [25 26 27]\n",
      "   [35 36 37]]\n",
      "\n",
      "  [[16 17 18]\n",
      "   [26 27 28]\n",
      "   [36 37 38]]\n",
      "\n",
      "  [[17 18 19]\n",
      "   [27 28 29]\n",
      "   [37 38 39]]]\n",
      "\n",
      "\n",
      " [[[20 21 22]\n",
      "   [30 31 32]\n",
      "   [40 41 42]]\n",
      "\n",
      "  [[21 22 23]\n",
      "   [31 32 33]\n",
      "   [41 42 43]]\n",
      "\n",
      "  [[22 23 24]\n",
      "   [32 33 34]\n",
      "   [42 43 44]]\n",
      "\n",
      "  [[23 24 25]\n",
      "   [33 34 35]\n",
      "   [43 44 45]]\n",
      "\n",
      "  [[24 25 26]\n",
      "   [34 35 36]\n",
      "   [44 45 46]]\n",
      "\n",
      "  [[25 26 27]\n",
      "   [35 36 37]\n",
      "   [45 46 47]]\n",
      "\n",
      "  [[26 27 28]\n",
      "   [36 37 38]\n",
      "   [46 47 48]]\n",
      "\n",
      "  [[27 28 29]\n",
      "   [37 38 39]\n",
      "   [47 48 49]]]\n",
      "\n",
      "\n",
      " [[[30 31 32]\n",
      "   [40 41 42]\n",
      "   [50 51 52]]\n",
      "\n",
      "  [[31 32 33]\n",
      "   [41 42 43]\n",
      "   [51 52 53]]\n",
      "\n",
      "  [[32 33 34]\n",
      "   [42 43 44]\n",
      "   [52 53 54]]\n",
      "\n",
      "  [[33 34 35]\n",
      "   [43 44 45]\n",
      "   [53 54 55]]\n",
      "\n",
      "  [[34 35 36]\n",
      "   [44 45 46]\n",
      "   [54 55 56]]\n",
      "\n",
      "  [[35 36 37]\n",
      "   [45 46 47]\n",
      "   [55 56 57]]\n",
      "\n",
      "  [[36 37 38]\n",
      "   [46 47 48]\n",
      "   [56 57 58]]\n",
      "\n",
      "  [[37 38 39]\n",
      "   [47 48 49]\n",
      "   [57 58 59]]]\n",
      "\n",
      "\n",
      " [[[40 41 42]\n",
      "   [50 51 52]\n",
      "   [60 61 62]]\n",
      "\n",
      "  [[41 42 43]\n",
      "   [51 52 53]\n",
      "   [61 62 63]]\n",
      "\n",
      "  [[42 43 44]\n",
      "   [52 53 54]\n",
      "   [62 63 64]]\n",
      "\n",
      "  [[43 44 45]\n",
      "   [53 54 55]\n",
      "   [63 64 65]]\n",
      "\n",
      "  [[44 45 46]\n",
      "   [54 55 56]\n",
      "   [64 65 66]]\n",
      "\n",
      "  [[45 46 47]\n",
      "   [55 56 57]\n",
      "   [65 66 67]]\n",
      "\n",
      "  [[46 47 48]\n",
      "   [56 57 58]\n",
      "   [66 67 68]]\n",
      "\n",
      "  [[47 48 49]\n",
      "   [57 58 59]\n",
      "   [67 68 69]]]\n",
      "\n",
      "\n",
      " [[[50 51 52]\n",
      "   [60 61 62]\n",
      "   [70 71 72]]\n",
      "\n",
      "  [[51 52 53]\n",
      "   [61 62 63]\n",
      "   [71 72 73]]\n",
      "\n",
      "  [[52 53 54]\n",
      "   [62 63 64]\n",
      "   [72 73 74]]\n",
      "\n",
      "  [[53 54 55]\n",
      "   [63 64 65]\n",
      "   [73 74 75]]\n",
      "\n",
      "  [[54 55 56]\n",
      "   [64 65 66]\n",
      "   [74 75 76]]\n",
      "\n",
      "  [[55 56 57]\n",
      "   [65 66 67]\n",
      "   [75 76 77]]\n",
      "\n",
      "  [[56 57 58]\n",
      "   [66 67 68]\n",
      "   [76 77 78]]\n",
      "\n",
      "  [[57 58 59]\n",
      "   [67 68 69]\n",
      "   [77 78 79]]]\n",
      "\n",
      "\n",
      " [[[60 61 62]\n",
      "   [70 71 72]\n",
      "   [80 81 82]]\n",
      "\n",
      "  [[61 62 63]\n",
      "   [71 72 73]\n",
      "   [81 82 83]]\n",
      "\n",
      "  [[62 63 64]\n",
      "   [72 73 74]\n",
      "   [82 83 84]]\n",
      "\n",
      "  [[63 64 65]\n",
      "   [73 74 75]\n",
      "   [83 84 85]]\n",
      "\n",
      "  [[64 65 66]\n",
      "   [74 75 76]\n",
      "   [84 85 86]]\n",
      "\n",
      "  [[65 66 67]\n",
      "   [75 76 77]\n",
      "   [85 86 87]]\n",
      "\n",
      "  [[66 67 68]\n",
      "   [76 77 78]\n",
      "   [86 87 88]]\n",
      "\n",
      "  [[67 68 69]\n",
      "   [77 78 79]\n",
      "   [87 88 89]]]\n",
      "\n",
      "\n",
      " [[[70 71 72]\n",
      "   [80 81 82]\n",
      "   [90 91 92]]\n",
      "\n",
      "  [[71 72 73]\n",
      "   [81 82 83]\n",
      "   [91 92 93]]\n",
      "\n",
      "  [[72 73 74]\n",
      "   [82 83 84]\n",
      "   [92 93 94]]\n",
      "\n",
      "  [[73 74 75]\n",
      "   [83 84 85]\n",
      "   [93 94 95]]\n",
      "\n",
      "  [[74 75 76]\n",
      "   [84 85 86]\n",
      "   [94 95 96]]\n",
      "\n",
      "  [[75 76 77]\n",
      "   [85 86 87]\n",
      "   [95 96 97]]\n",
      "\n",
      "  [[76 77 78]\n",
      "   [86 87 88]\n",
      "   [96 97 98]]\n",
      "\n",
      "  [[77 78 79]\n",
      "   [87 88 89]\n",
      "   [97 98 99]]]]\n"
     ]
    }
   ],
   "source": [
    "84\n",
    "x = np.arange(100).reshape(10, 10)\n",
    "print(sliding_window_view(x, window_shape=(3, 3)))"
   ]
  },
  {
   "cell_type": "code",
   "execution_count": 20,
   "id": "5b6f4420",
   "metadata": {},
   "outputs": [
    {
     "name": "stdout",
     "output_type": "stream",
     "text": [
      "[[98.]\n",
      " [98.]\n",
      " [98.]\n",
      " [98.]\n",
      " [98.]\n",
      " [98.]\n",
      " [98.]\n",
      " [98.]\n",
      " [98.]\n",
      " [98.]\n",
      " [98.]\n",
      " [98.]\n",
      " [98.]\n",
      " [98.]]\n"
     ]
    }
   ],
   "source": [
    "86\n",
    "p, n = 7, 14\n",
    "A = np.ones((p, n, n))\n",
    "B = np.ones((p, n, 1))\n",
    "C = np.tensordot(A, B, axes=[[0, 2], [0, 1]])\n",
    "print(C)\n"
   ]
  },
  {
   "cell_type": "code",
   "execution_count": 21,
   "id": "d9f23561",
   "metadata": {},
   "outputs": [
    {
     "name": "stdout",
     "output_type": "stream",
     "text": [
      "[[ 408  472  536  600]\n",
      " [1432 1496 1560 1624]\n",
      " [2456 2520 2584 2648]\n",
      " [3480 3544 3608 3672]]\n"
     ]
    }
   ],
   "source": [
    "87\n",
    "x = np.arange(16**2).reshape(16,16)\n",
    "k = 4\n",
    "print(sliding_window_view(x, window_shape=(k, k))[::k, ::k].sum(axis=(-2, -1)))"
   ]
  },
  {
   "cell_type": "code",
   "execution_count": 22,
   "id": "073080e8",
   "metadata": {},
   "outputs": [
    {
     "name": "stdout",
     "output_type": "stream",
     "text": [
      "[13 37 27 23 11 10 40 25 18 16 25 32 10  1 28 15 10 24  8  9 24 19 22 31\n",
      " 35 19  2 23 35 34 24 40 33 29]\n",
      "[33 34 35 35 37 40 40]\n"
     ]
    }
   ],
   "source": [
    "89\n",
    "x = np.random.randint(0, 44, 34)\n",
    "np.random.shuffle(x)\n",
    "n = 7\n",
    "print(x)\n",
    "print(x[np.argsort(x)[-n:]])\n",
    "\n"
   ]
  },
  {
   "cell_type": "code",
   "execution_count": 23,
   "id": "673a448b",
   "metadata": {},
   "outputs": [
    {
     "data": {
      "text/plain": [
       "rec.array([(1, 1.), (2, 4.), (3, 9.)],\n",
       "          dtype=[('x', '<i2'), ('y', '<f2')])"
      ]
     },
     "execution_count": 23,
     "metadata": {},
     "output_type": "execute_result"
    }
   ],
   "source": [
    "91\n",
    "b = [(1, 1), (2, 4), (3, 9)]\n",
    "c = np.core.records.array(b, formats = ['i2', 'f2'], names = ('x', 'y'))\n",
    "c"
   ]
  },
  {
   "cell_type": "code",
   "execution_count": 24,
   "id": "8a9d5a28",
   "metadata": {},
   "outputs": [
    {
     "name": "stdout",
     "output_type": "stream",
     "text": [
      "[[1 4 6]\n",
      " [1 4 7]\n",
      " [1 5 6]\n",
      " [1 5 7]\n",
      " [2 4 6]\n",
      " [2 4 7]\n",
      " [2 5 6]\n",
      " [2 5 7]\n",
      " [3 4 6]\n",
      " [3 4 7]\n",
      " [3 5 6]\n",
      " [3 5 7]]\n"
     ]
    }
   ],
   "source": [
    "90\n",
    "def cartesian(arrays):\n",
    "    arrays = [np.asarray(a) for a in arrays]\n",
    "    shape = map(len, arrays)\n",
    "\n",
    "    ix = np.indices(shape, dtype=int)\n",
    "    ix = ix.reshape(len(arrays), -1).T\n",
    "\n",
    "    for n, arr in enumerate(arrays):\n",
    "        ix[:, n] = arrays[n][ix[:, n]]\n",
    "\n",
    "    return ix\n",
    "\n",
    "print(cartesian(([1, 2, 3], [4, 5], [6, 7])))"
   ]
  },
  {
   "cell_type": "code",
   "execution_count": 25,
   "id": "e46068d8",
   "metadata": {},
   "outputs": [
    {
     "name": "stdout",
     "output_type": "stream",
     "text": [
      "[[0 0 0 0 0 0 0 0]\n",
      " [0 0 0 0 0 0 0 1]\n",
      " [0 0 0 0 0 0 1 0]\n",
      " [0 0 0 0 0 0 1 1]\n",
      " [0 0 0 0 1 1 1 1]\n",
      " [0 0 0 1 0 0 0 0]\n",
      " [0 0 1 0 0 0 0 0]\n",
      " [0 1 0 0 0 0 0 0]\n",
      " [1 0 0 0 0 0 0 0]]\n"
     ]
    }
   ],
   "source": [
    "95\n",
    "I = np.array([0, 1, 2, 3, 15, 16, 32, 64, 128], dtype=np.uint8)\n",
    "print(np.unpackbits(I[:, np.newaxis], axis=1))"
   ]
  },
  {
   "cell_type": "code",
   "execution_count": 26,
   "id": "a92e3e46",
   "metadata": {},
   "outputs": [
    {
     "name": "stdout",
     "output_type": "stream",
     "text": [
      "[[1 0 1]\n",
      " [1 1 0]\n",
      " [1 1 1]]\n"
     ]
    }
   ],
   "source": [
    "96\n",
    "X = np.random.randint(0,2,(6,3))\n",
    "T = np.ascontiguousarray(X).view(np.dtype((np.void, X.dtype.itemsize * X.shape[1])))\n",
    "k, i = np.unique(T, return_index=True)\n",
    "u = X[i]\n",
    "print(u)"
   ]
  },
  {
   "cell_type": "code",
   "execution_count": 27,
   "id": "181fb9b5",
   "metadata": {},
   "outputs": [
    {
     "name": "stdout",
     "output_type": "stream",
     "text": [
      "[[1 0 0 0]\n",
      " [0 1 1 0]\n",
      " [1 1 0 0]]\n",
      "[[0 1 1 0]\n",
      " [1 1 0 0]]\n"
     ]
    }
   ],
   "source": [
    "97\n",
    "A = np.random.randint(0, 2, (3, 4))\n",
    "n = 2\n",
    "M = np.logical_and.reduce(np.mod(A, 1) == 0, axis=-1)\n",
    "M &= (A.sum(axis=-1) == n)\n",
    "print(A)\n",
    "print(A[M])"
   ]
  },
  {
   "cell_type": "code",
   "execution_count": null,
   "id": "156a2255",
   "metadata": {},
   "outputs": [],
   "source": []
  }
 ],
 "metadata": {
  "kernelspec": {
   "display_name": "Python 3 (ipykernel)",
   "language": "python",
   "name": "python3"
  },
  "language_info": {
   "codemirror_mode": {
    "name": "ipython",
    "version": 3
   },
   "file_extension": ".py",
   "mimetype": "text/x-python",
   "name": "python",
   "nbconvert_exporter": "python",
   "pygments_lexer": "ipython3",
   "version": "3.9.12"
  }
 },
 "nbformat": 4,
 "nbformat_minor": 5
}
