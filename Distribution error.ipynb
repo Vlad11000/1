{
 "cells": [
  {
   "cell_type": "markdown",
   "metadata": {},
   "source": [
    "Before you turn this problem in, make sure everything runs as expected. First, **restart the kernel** (in the menubar, select Kernel$\\rightarrow$Restart) and then **run all cells** (in the menubar, select Cell$\\rightarrow$Run All).\n",
    "\n",
    "Make sure you fill in any place that says `YOUR CODE HERE` or \"YOUR ANSWER HERE\", as well as your github nickname below:"
   ]
  },
  {
   "cell_type": "code",
   "execution_count": null,
   "metadata": {},
   "outputs": [],
   "source": [
    "NICKNAME = \"Vlad11000\""
   ]
  },
  {
   "cell_type": "markdown",
   "metadata": {},
   "source": [
    "---"
   ]
  },
  {
   "cell_type": "markdown",
   "metadata": {
    "deletable": false,
    "editable": false,
    "nbgrader": {
     "cell_type": "markdown",
     "checksum": "84e060d5f3cc48fbad0e152b1142bfa3",
     "grade": false,
     "grade_id": "cell-76f268146dfd2554",
     "locked": true,
     "schema_version": 3,
     "solution": false,
     "task": false
    }
   },
   "source": [
    "# Метод Монте-Карло: расчет погрешности\n",
    "Вероятно, вы уже сталкивались с концепцией [propagation of uncertainty](https://en.wikipedia.org/wiki/Propagation_of_uncertainty). Идея заключается в том, что по заданным измерениям с погрешностями, мы можем найти неопределенность конечного результата. \n",
    "Например, рассмотрим следующее равенство:\n",
    "$$F = \\frac{G M_1 M_2}{r^2}$$\n",
    "Оно определяет гравитационное взаимодействие между двумя телами массами $M_1$ и $M_2$, расположенными друг от друга на расстоянии r. \n",
    "Пусть\n",
    "    $$M_1 = 40 × 10^4 ± 0.05 × 10^4 kg$$ \n",
    "    $$M_2 = 30 × 10^4 ± 0.1 × 10^4 kg$$\n",
    "    $$r = 3.2 ± 0.01 m$$\n",
    "\n",
    "Предполагаем, что ошибки измерения описываются Гауссовым распределением, величины стандартных отклонений которых суть наблюдаемые неопределённости $a = \\left< a\\right>\\pm \\sigma_a$.\n",
    "\n",
    "Гравитационная постоянная -- константа.\n",
    "$$G = 6.67384×10^{−11} m^3 kg^{−1} s^{−2}$$"
   ]
  },
  {
   "cell_type": "code",
   "execution_count": 2,
   "metadata": {
    "ExecuteTime": {
     "end_time": "2022-09-28T22:09:13.380606Z",
     "start_time": "2022-09-28T22:09:12.896389Z"
    },
    "deletable": false,
    "editable": false,
    "nbgrader": {
     "cell_type": "code",
     "checksum": "fcec076fa48de36a21c4034e4cb00356",
     "grade": false,
     "grade_id": "cell-12b642b118791155",
     "locked": true,
     "schema_version": 3,
     "solution": false,
     "task": false
    }
   },
   "outputs": [],
   "source": [
    "import numpy as np\n",
    "import matplotlib.pyplot as plt"
   ]
  },
  {
   "cell_type": "markdown",
   "metadata": {
    "deletable": false,
    "editable": false,
    "nbgrader": {
     "cell_type": "markdown",
     "checksum": "1d0de69e3e59d2bb7754004bbca54bea",
     "grade": false,
     "grade_id": "cell-d6a634ffd5f8b4c1",
     "locked": true,
     "schema_version": 3,
     "solution": false,
     "task": false
    }
   },
   "source": [
    "# Задание 1.1\n",
    "Напишите функцию, определяющую среднее и стандартное отклонение распределения силы с помощью стандартного метода:\n",
    "https://en.wikipedia.org/wiki/Propagation_of_uncertainty#Example_formulas"
   ]
  },
  {
   "cell_type": "code",
   "execution_count": 7,
   "metadata": {
    "ExecuteTime": {
     "end_time": "2022-09-28T22:09:27.852519Z",
     "start_time": "2022-09-28T22:09:27.845069Z"
    },
    "deletable": false,
    "nbgrader": {
     "cell_type": "code",
     "checksum": "3c83381112e11781218cdd11c84e0ce0",
     "grade": false,
     "grade_id": "cell-db174fadb43d897d",
     "locked": false,
     "schema_version": 3,
     "solution": true,
     "task": false
    }
   },
   "outputs": [],
   "source": [
    "def error(M1, dM1, M2, dM2, r, dr):\n",
    "   G = 6.67384 * 10 ** (-11)\n",
    "   F = G * M1 * M2 / r ** 2\n",
    "   sigma = (G / r ** 2) * ((2 * M1 * M2 * dr / r) ** 2 + (M1 * dM2) ** 2 + (dM1 * M2) ** 2) ** 0.5\n",
    "   return F, sigma"
   ]
  },
  {
   "cell_type": "code",
   "execution_count": 8,
   "metadata": {
    "deletable": false,
    "editable": false,
    "nbgrader": {
     "cell_type": "code",
     "checksum": "ed9b25b206378f54571d84b8adb4ec88",
     "grade": true,
     "grade_id": "cell-9f29794320c5f02f",
     "locked": true,
     "points": 1,
     "schema_version": 3,
     "solution": false,
     "task": false
    }
   },
   "outputs": [
    {
     "name": "stdout",
     "output_type": "stream",
     "text": [
      "(0.7820906249999999, 0.005625407272639264)\n"
     ]
    }
   ],
   "source": [
    "print(error(40*10**4, 0.05 * 10**4, 30 * 10**4, 0.1 * 10**4, 3.2, 0.01))"
   ]
  },
  {
   "cell_type": "markdown",
   "metadata": {
    "deletable": false,
    "editable": false,
    "nbgrader": {
     "cell_type": "markdown",
     "checksum": "2cf85a7eb686666ad7fa29b4e380ecbc",
     "grade": false,
     "grade_id": "cell-1aa5850e6b956b31",
     "locked": true,
     "schema_version": 3,
     "solution": false,
     "task": false
    }
   },
   "source": [
    "Теперь давайте попробуем получить то же распределение с помощью метода Монте Карло. Он заключается в многократной генерации случайных входных данных и анализе полученных результатов.\n",
    "В нашем алгоритм следующий:\n",
    "\n",
    "1.Генерируем гауссово распределение случайных величин $M_1, M_2$ и $r$ ($10^6$ точек), используя средние значение и стандартные отклонения, указаные выше.\n",
    "    \n",
    "2.Для каждой реализации вычисляем силу.\n",
    "\n",
    "Совет: Не используйте циклы. Чтобы получить $10^6$ случайных точек, используйте библиотеку numpy."
   ]
  },
  {
   "cell_type": "markdown",
   "metadata": {
    "deletable": false,
    "editable": false,
    "nbgrader": {
     "cell_type": "markdown",
     "checksum": "0312b309499a55b2dfb788467f2d3dff",
     "grade": false,
     "grade_id": "cell-e476235a2b3299cf",
     "locked": true,
     "schema_version": 3,
     "solution": false,
     "task": false
    }
   },
   "source": [
    "# Задание 1.2 \n",
    "\n",
    "Напишите функцию, которая моделирует силу методом Монте-Карло и строит нормированную гистограмму."
   ]
  },
  {
   "cell_type": "code",
   "execution_count": 9,
   "metadata": {
    "ExecuteTime": {
     "end_time": "2022-09-28T22:09:31.347073Z",
     "start_time": "2022-09-28T22:09:31.295117Z"
    },
    "deletable": false,
    "nbgrader": {
     "cell_type": "code",
     "checksum": "9a5eeb3449a5991fbe4d65a8d65fb72f",
     "grade": false,
     "grade_id": "cell-624b91c967d6c062",
     "locked": false,
     "schema_version": 3,
     "solution": true,
     "task": false
    }
   },
   "outputs": [],
   "source": [
    "def MonteCarloNormal(M1, dM1, M2, dM2, r, dr, n=10**6):\n",
    "    G = 6.67384 * 10 ** (-11)\n",
    "    M1_arr = np.random.normal(M1, dM1, (1, n))\n",
    "    M2_arr = np.random.normal(M2, dM2, (1, n))\n",
    "    r_arr = np.random.normal(r, dr, (1, n))\n",
    "    F = G * M1_arr * M2_arr / r_arr ** 2\n",
    "    return F[0]"
   ]
  },
  {
   "cell_type": "markdown",
   "metadata": {
    "deletable": false,
    "editable": false,
    "nbgrader": {
     "cell_type": "markdown",
     "checksum": "ff5b914f29a5fc621c031b7c90cefa2f",
     "grade": false,
     "grade_id": "cell-97c19f910834710d",
     "locked": true,
     "schema_version": 3,
     "solution": false,
     "task": false
    }
   },
   "source": [
    "# Задание 1.3\n",
    "\n",
    "Постройте гистограмму распределения силы методом Монте-Карло,вызвав MonteCarloNormal, а также постройте график гауссовой плотности вероятности с параметрами, полученными из error().\n",
    "\n",
    "Совет: Убедитесь, что вы верно выбрали пределы величины x и оба графика видны. Выберите разумное количество столбиков гистограммы и сравните форму гистограммы и графика."
   ]
  },
  {
   "cell_type": "code",
   "execution_count": 10,
   "metadata": {
    "deletable": false,
    "nbgrader": {
     "cell_type": "code",
     "checksum": "e91e4fb492d1b11a5cde3b9243b06bf0",
     "grade": true,
     "grade_id": "cell-23aa971b5ceb522c",
     "locked": false,
     "points": 2,
     "schema_version": 3,
     "solution": true,
     "task": false
    }
   },
   "outputs": [
    {
     "data": {
      "image/png": "[encoded data removed]",
      "text/plain": [
       "<Figure size 720x360 with 1 Axes>"
      ]
     },
     "metadata": {
      "needs_background": "light"
     },
     "output_type": "display_data"
    }
   ],
   "source": [
    "F = MonteCarloNormal(40*10**4, 0.05 * 10**4, 30 * 10**4, 0.1 * 10**4, 3.2, 0.01)\n",
    "F_e, sigma_e = error(40*10**4, 0.05 * 10**4, 30 * 10**4, 0.1 * 10**4, 3.2, 0.01)\n",
    "\n",
    "plt.figure(figsize=(10, 5))\n",
    "count, bins, ignored = plt.hist(F, 60, density=True)\n",
    "plt.plot(bins, 1/(sigma_e * np.sqrt(2 * np.pi)) *\n",
    "               np.exp( - (bins - F_e)**2 / (2 * sigma_e**2) ),\n",
    "         linewidth=2, color='r')\n",
    "plt.show()"
   ]
  },
  {
   "cell_type": "markdown",
   "metadata": {
    "deletable": false,
    "editable": false,
    "nbgrader": {
     "cell_type": "markdown",
     "checksum": "d8fbf9c55ecaa8e882dd5421f91c6ff8",
     "grade": false,
     "grade_id": "cell-f49e61e55b424e99",
     "locked": true,
     "points": 1,
     "schema_version": 3,
     "solution": false,
     "task": true
    }
   },
   "source": [
    "Сделайте вывод о согласованности двух подходов."
   ]
  },
  {
   "cell_type": "markdown",
   "metadata": {
    "deletable": false,
    "editable": false,
    "nbgrader": {
     "cell_type": "markdown",
     "checksum": "d7f88819f9a066d66b415b6e346ebaf0",
     "grade": false,
     "grade_id": "cell-c75ba79393749063",
     "locked": true,
     "schema_version": 3,
     "solution": false,
     "task": false
    }
   },
   "source": [
    "# Задание 2.1\n",
    "Повторите те же действия для следующих данных:\n",
    "\n",
    "$$M1=40×10^4±2×10^4kg$$\n",
    "$$M2=30×10^4±10×10^4kg$$\n",
    "$$r=3.2±1.0 m$$\n",
    "\n",
    "и постройте графики."
   ]
  },
  {
   "cell_type": "code",
   "execution_count": 11,
   "metadata": {
    "deletable": false,
    "nbgrader": {
     "cell_type": "code",
     "checksum": "e057110b2ad474ea6a6e233561142793",
     "grade": true,
     "grade_id": "cell-51427ea5a64d9ef0",
     "locked": false,
     "points": 1,
     "schema_version": 3,
     "solution": true,
     "task": false
    }
   },
   "outputs": [
    {
     "data": {
      "image/png": "[encoded data removed]",
      "text/plain": [
       "<Figure size 720x360 with 1 Axes>"
      ]
     },
     "metadata": {
      "needs_background": "light"
     },
     "output_type": "display_data"
    }
   ],
   "source": [
    "F_2 = MonteCarloNormal(40*10**4, 2 * 10**4, 30 * 10**4, 10 * 10**4, 3.2, 1)\n",
    "F_e_2, sigma_e_2 = error(40*10**4, 2 * 10**4, 30 * 10**4, 10 * 10**4, 3.2, 1)\n",
    "\n",
    "plt.figure(figsize=(10, 5))\n",
    "count, bins, ignored = plt.hist(F_2, 60, density=True)\n",
    "plt.plot(bins, 1/(sigma_e_2 * np.sqrt(2 * np.pi)) *\n",
    "               np.exp(- (bins - F_e_2)**2 / (2 * sigma_e_2**2) ),\n",
    "         linewidth=2, color='r')\n",
    "plt.show()"
   ]
  },
  {
   "cell_type": "markdown",
   "metadata": {
    "deletable": false,
    "editable": false,
    "nbgrader": {
     "cell_type": "markdown",
     "checksum": "fbf4efd09489f212664f69f1a8cda769",
     "grade": false,
     "grade_id": "cell-a26a69131e4e9b5b",
     "locked": true,
     "schema_version": 3,
     "solution": false,
     "task": false
    }
   },
   "source": [
    "# Задание 2.2\n",
    "\n",
    "Какой метод более точный в этом случае и почему? Как вы думаете, в чем состоят преимущества метода Монте-Карло?"
   ]
  },
  {
   "cell_type": "markdown",
   "metadata": {
    "deletable": false,
    "nbgrader": {
     "cell_type": "markdown",
     "checksum": "405f5fe09c7e2883c8488efb8ca1db89",
     "grade": true,
     "grade_id": "cell-8e0a729cb28f956d",
     "locked": false,
     "points": 1,
     "schema_version": 3,
     "solution": true,
     "task": false
    }
   },
   "source": [
    "YOUR ANSWER HERE"
   ]
  },
  {
   "cell_type": "code",
   "execution_count": null,
   "metadata": {},
   "outputs": [],
   "source": [
    "Метод Монте-Карло точнее из-за того что стандартные октлонения одного порядка со случайными величинами"
   ]
  }
 ],
 "metadata": {
  "kernelspec": {
   "display_name": "Python 3 (ipykernel)",
   "language": "python",
   "name": "python3"
  },
  "language_info": {
   "codemirror_mode": {
    "name": "ipython",
    "version": 3
   },
   "file_extension": ".py",
   "mimetype": "text/x-python",
   "name": "python",
   "nbconvert_exporter": "python",
   "pygments_lexer": "ipython3",
   "version": "3.9.12"
  },
  "latex_envs": {
   "LaTeX_envs_menu_present": true,
   "autoclose": false,
   "autocomplete": true,
   "bibliofile": "biblio.bib",
   "cite_by": "apalike",
   "current_citInitial": 1,
   "eqLabelWithNumbers": true,
   "eqNumInitial": 1,
   "hotkeys": {
    "equation": "Ctrl-E",
    "itemize": "Ctrl-I"
   },
   "labels_anchors": false,
   "latex_user_defs": false,
   "report_style_numbering": false,
   "user_envs_cfg": false
  },
  "toc": {
   "base_numbering": 1,
   "nav_menu": {},
   "number_sections": true,
   "sideBar": true,
   "skip_h1_title": false,
   "title_cell": "Table of Contents",
   "title_sidebar": "Contents",
   "toc_cell": false,
   "toc_position": {},
   "toc_section_display": true,
   "toc_window_display": false
  }
 },
 "nbformat": 4,
 "nbformat_minor": 4
}
